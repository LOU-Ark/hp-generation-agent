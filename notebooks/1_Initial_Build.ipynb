{
 "cells": [
  {
   "cell_type": "markdown",
   "metadata": {},
   "source": [
    "# フェーズ1-4: HP初回構築エージェント\n",
    "\n",
    "このノートブックは、`main_01_initial_build.py` を実行し、サイトの初回構築を行います。\n",
    "\n",
    "**前提条件:**\n",
    "1. Colabの「シークレット」に `GEMINI_API_KEY` が設定されていること。\n",
    "2. `config/opinion.txt` に「個人の意見」が記述されていること。"
   ]
  },
  {
   "cell_type": "code",
   "execution_count": null,
   "metadata": {},
   "outputs": [],
   "source": [
    "# 依存ライブラリのインストール\n",
    "!pip install google-genai pandas beautifulsoup4 numpy"
   ]
  },
  {
   "cell_type": "code",
   "execution_count": null,
   "metadata": {},
   "outputs": [],
   "source": [
    "# カレントディレクトリをプロジェクトルートに変更\n",
    "import os\n",
    "os.chdir('..') # /notebooks から /hp-generation-agent に移動\n",
    "!pwd"
   ]
  },
  {
   "cell_type": "code",
   "execution_count": null,
   "metadata": {},
   "outputs": [],
   "source": [
    "# メインスクリプトをインポートして実行\n",
    "import main_01_initial_build\n",
    "main_01_initial_build.main()"
   ]
  },
  {
   "cell_type": "markdown",
   "metadata": {},
   "source": [
    "実行が完了すると、`output_website/people_opt_site_unified.zip` が生成されます。"
   ]
  }
 ],
 "metadata": {
  "kernelspec": {
   "display_name": "Python 3",
   "language": "python",
   "name": "python3"
  },
  "language_info": {
   "name": "python"
  }
 },
 "nbformat": 4,
 "nbformat_minor": 2
}
