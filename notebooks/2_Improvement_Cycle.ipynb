{
 "cells": [
  {
   "cell_type": "markdown",
   "metadata": {},
   "source": [
    "# フェーズ5-6: HP改善サイクルエージェント\n",
    "\n",
    "このノートブックは、`main_02_improvement_cycle.py` を実行し、初回構築されたサイトを分析・改善（詳細記事の企画・生成シミュレーション）します。\n",
    "\n",
    "**前提条件:**\n",
    "1. `main_01_initial_build.py` が一度実行され、`output_website/` にサイトが生成されていること。"
   ]
  },
  {
   "cell_type": "code",
   "execution_count": null,
   "metadata": {},
   "outputs": [],
   "source": [
    "# 依存ライブラリのインストール (念のため)\n",
    "!pip install google-genai pandas beautifulsoup4 numpy"
   ]
  },
  {
   "cell_type": "code",
   "execution_count": null,
   "metadata": {},
   "outputs": [],
   "source": [
    "# カレントディレクトリをプロジェクトルートに変更\n",
    "import os\n",
    "os.chdir('..') # /notebooks から /hp-generation-agent に移動\n",
    "!pwd"
   ]
  },
  {
   "cell_type": "code",
   "execution_count": null,
   "metadata": {},
   "outputs": [],
   "source": [
    "# メインスクリプトをインポートして実行\n",
    "import main_02_improvement_cycle\n",
    "main_02_improvement_cycle.main()"
   ]
  },
  {
   "cell_type": "markdown",
   "metadata": {},
   "source": [
    "実行が完了すると、`output_reports/planned_articles.md` が更新され、`output_website/` に新規記事（のシミュレーション）が追加されます。"
   ]
  }
 ],
 "metadata": {
  "kernelspec": {
   "display_name": "Python 3",
   "language": "python",
   "name": "python3"
  },
  "language_info": {
   "name": "python"
  }
 },
 "nbformat": 4,
 "nbformat_minor": 2
}
